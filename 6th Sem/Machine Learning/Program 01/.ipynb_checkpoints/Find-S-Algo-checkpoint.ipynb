{
 "cells": [
  {
   "cell_type": "markdown",
   "metadata": {},
   "source": [
    "### Consider the following data set which is having the data about which particular seeds are poisonous. Use FIND-S algorithm find the hypothesis. Implement the algorithm for the same"
   ]
  },
  {
   "cell_type": "code",
   "execution_count": 1,
   "metadata": {},
   "outputs": [],
   "source": [
    "import pandas as pd\n",
    "import numpy as np"
   ]
  },
  {
   "cell_type": "code",
   "execution_count": 9,
   "metadata": {},
   "outputs": [
    {
     "data": {
      "text/html": [
       "<div>\n",
       "<style scoped>\n",
       "    .dataframe tbody tr th:only-of-type {\n",
       "        vertical-align: middle;\n",
       "    }\n",
       "\n",
       "    .dataframe tbody tr th {\n",
       "        vertical-align: top;\n",
       "    }\n",
       "\n",
       "    .dataframe thead th {\n",
       "        text-align: right;\n",
       "    }\n",
       "</style>\n",
       "<table border=\"1\" class=\"dataframe\">\n",
       "  <thead>\n",
       "    <tr style=\"text-align: right;\">\n",
       "      <th></th>\n",
       "      <th>COLOR</th>\n",
       "      <th>TOUGHNESS</th>\n",
       "      <th>FUNGUS</th>\n",
       "      <th>APPEARANCE</th>\n",
       "      <th>POISONOUS</th>\n",
       "    </tr>\n",
       "  </thead>\n",
       "  <tbody>\n",
       "    <tr>\n",
       "      <th>0</th>\n",
       "      <td>Green</td>\n",
       "      <td>Hard</td>\n",
       "      <td>No</td>\n",
       "      <td>Wrinkled</td>\n",
       "      <td>Yes</td>\n",
       "    </tr>\n",
       "    <tr>\n",
       "      <th>1</th>\n",
       "      <td>Green</td>\n",
       "      <td>Hard</td>\n",
       "      <td>Yes</td>\n",
       "      <td>Smooth</td>\n",
       "      <td>No</td>\n",
       "    </tr>\n",
       "    <tr>\n",
       "      <th>2</th>\n",
       "      <td>Brown</td>\n",
       "      <td>Soft</td>\n",
       "      <td>No</td>\n",
       "      <td>Wrinkled</td>\n",
       "      <td>No</td>\n",
       "    </tr>\n",
       "    <tr>\n",
       "      <th>3</th>\n",
       "      <td>Orange</td>\n",
       "      <td>Hard</td>\n",
       "      <td>No</td>\n",
       "      <td>Wrinkled</td>\n",
       "      <td>Yes</td>\n",
       "    </tr>\n",
       "    <tr>\n",
       "      <th>4</th>\n",
       "      <td>Green</td>\n",
       "      <td>Soft</td>\n",
       "      <td>Yes</td>\n",
       "      <td>Smooth</td>\n",
       "      <td>Yes</td>\n",
       "    </tr>\n",
       "    <tr>\n",
       "      <th>5</th>\n",
       "      <td>Green</td>\n",
       "      <td>Hard</td>\n",
       "      <td>Yes</td>\n",
       "      <td>Wrinkled</td>\n",
       "      <td>Yes</td>\n",
       "    </tr>\n",
       "    <tr>\n",
       "      <th>6</th>\n",
       "      <td>Orange</td>\n",
       "      <td>Hard</td>\n",
       "      <td>No</td>\n",
       "      <td>Wrinkled</td>\n",
       "      <td>Yes</td>\n",
       "    </tr>\n",
       "  </tbody>\n",
       "</table>\n",
       "</div>"
      ],
      "text/plain": [
       "    COLOR TOUGHNESS FUNGUS APPEARANCE POISONOUS\n",
       "0   Green      Hard     No   Wrinkled       Yes\n",
       "1   Green      Hard    Yes     Smooth        No\n",
       "2   Brown      Soft     No   Wrinkled        No\n",
       "3  Orange      Hard     No   Wrinkled       Yes\n",
       "4   Green      Soft    Yes     Smooth       Yes\n",
       "5   Green      Hard    Yes   Wrinkled       Yes\n",
       "6  Orange      Hard     No   Wrinkled       Yes"
      ]
     },
     "execution_count": 9,
     "metadata": {},
     "output_type": "execute_result"
    }
   ],
   "source": [
    "poisonous = pd.read_csv('Data.csv')\n",
    "poisonous"
   ]
  },
  {
   "cell_type": "code",
   "execution_count": 10,
   "metadata": {},
   "outputs": [
    {
     "data": {
      "text/plain": [
       "array([['Green', 'Hard', 'No', 'Wrinkled'],\n",
       "       ['Green', 'Hard', 'Yes', 'Smooth'],\n",
       "       ['Brown', 'Soft', 'No', ' Wrinkled'],\n",
       "       ['Orange', 'Hard', 'No', 'Wrinkled'],\n",
       "       ['Green', 'Soft', 'Yes', 'Smooth'],\n",
       "       ['Green', 'Hard', 'Yes', 'Wrinkled'],\n",
       "       ['Orange', 'Hard', 'No', 'Wrinkled']], dtype=object)"
      ]
     },
     "execution_count": 10,
     "metadata": {},
     "output_type": "execute_result"
    }
   ],
   "source": [
    "data = np.array(poisonous)[:,:-1]\n",
    "data "
   ]
  },
  {
   "cell_type": "code",
   "execution_count": 11,
   "metadata": {},
   "outputs": [
    {
     "data": {
      "text/plain": [
       "array(['Yes', 'No', 'No', 'Yes', 'Yes', 'Yes', 'Yes'], dtype=object)"
      ]
     },
     "execution_count": 11,
     "metadata": {},
     "output_type": "execute_result"
    }
   ],
   "source": [
    "values = np.array(poisonous)[:,-1]\n",
    "values"
   ]
  },
  {
   "cell_type": "markdown",
   "metadata": {},
   "source": [
    "# Find S Algorithm"
   ]
  },
  {
   "cell_type": "code",
   "execution_count": 14,
   "metadata": {},
   "outputs": [
    {
     "name": "stdout",
     "output_type": "stream",
     "text": [
      "Initial hypothesis: ['NULL', 'NULL', 'NULL', 'NULL']\n",
      "After 1 iteration in dataset, the hypothesis is:  ['Green', 'Hard', 'No', 'Wrinkled']\n",
      "\n",
      "After 2 iteration in dataset, the hypothesis is:  ['Green', 'Hard', 'No', 'Wrinkled']\n",
      "\n",
      "After 3 iteration in dataset, the hypothesis is:  ['Green', 'Hard', 'No', 'Wrinkled']\n",
      "\n",
      "After 4 iteration in dataset, the hypothesis is:  ['?', 'Hard', 'No', 'Wrinkled']\n",
      "\n",
      "After 5 iteration in dataset, the hypothesis is:  ['?', '?', '?', '?']\n",
      "\n",
      "After 6 iteration in dataset, the hypothesis is:  ['?', '?', '?', '?']\n",
      "\n",
      "After 7 iteration in dataset, the hypothesis is:  ['?', '?', '?', '?']\n",
      "\n",
      "Final hypothesis: ['?', '?', '?', '?']\n"
     ]
    }
   ],
   "source": [
    "hypothesis = ['NULL'] * len(data[0])\n",
    "print('Initial hypothesis:', hypothesis)\n",
    "for j in range(0, len(values)):\n",
    "    if values[j] == 'Yes':\n",
    "        for i in range(0, len(data[0])):\n",
    "            if hypothesis[i] == 'NULL' or hypothesis[i] == data[j][i]:\n",
    "                hypothesis[i] = data[j][i]\n",
    "            else:\n",
    "                hypothesis[i] = '?'\n",
    "    print('After', j+1, 'iteration in dataset, the hypothesis is: ', hypothesis)\n",
    "    print()\n",
    "print('Final hypothesis:', hypothesis)"
   ]
  },
  {
   "cell_type": "code",
   "execution_count": null,
   "metadata": {},
   "outputs": [],
   "source": []
  }
 ],
 "metadata": {
  "kernelspec": {
   "display_name": "Python 3",
   "language": "python",
   "name": "python3"
  },
  "language_info": {
   "codemirror_mode": {
    "name": "ipython",
    "version": 3
   },
   "file_extension": ".py",
   "mimetype": "text/x-python",
   "name": "python",
   "nbconvert_exporter": "python",
   "pygments_lexer": "ipython3",
   "version": "3.7.3"
  }
 },
 "nbformat": 4,
 "nbformat_minor": 4
}
